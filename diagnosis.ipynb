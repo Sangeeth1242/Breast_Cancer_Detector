{
 "cells": [
  {
   "cell_type": "code",
   "execution_count": 1,
   "id": "c5e03edf",
   "metadata": {},
   "outputs": [],
   "source": [
    "import pandas as pd\n",
    "import numpy as np\n",
    "import matplotlib.pyplot as plt\n",
    "import seaborn as sns"
   ]
  },
  {
   "cell_type": "code",
   "execution_count": 2,
   "id": "38060b8e",
   "metadata": {},
   "outputs": [],
   "source": [
    "df = pd.read_csv('Breast_cancer_data.csv')"
   ]
  },
  {
   "cell_type": "code",
   "execution_count": 3,
   "id": "75643924",
   "metadata": {},
   "outputs": [
    {
     "data": {
      "text/html": [
       "<div>\n",
       "<style scoped>\n",
       "    .dataframe tbody tr th:only-of-type {\n",
       "        vertical-align: middle;\n",
       "    }\n",
       "\n",
       "    .dataframe tbody tr th {\n",
       "        vertical-align: top;\n",
       "    }\n",
       "\n",
       "    .dataframe thead th {\n",
       "        text-align: right;\n",
       "    }\n",
       "</style>\n",
       "<table border=\"1\" class=\"dataframe\">\n",
       "  <thead>\n",
       "    <tr style=\"text-align: right;\">\n",
       "      <th></th>\n",
       "      <th>mean_radius</th>\n",
       "      <th>mean_texture</th>\n",
       "      <th>mean_perimeter</th>\n",
       "      <th>mean_area</th>\n",
       "      <th>mean_smoothness</th>\n",
       "      <th>diagnosis</th>\n",
       "    </tr>\n",
       "  </thead>\n",
       "  <tbody>\n",
       "    <tr>\n",
       "      <th>count</th>\n",
       "      <td>569.000000</td>\n",
       "      <td>569.000000</td>\n",
       "      <td>569.000000</td>\n",
       "      <td>569.000000</td>\n",
       "      <td>569.000000</td>\n",
       "      <td>569.000000</td>\n",
       "    </tr>\n",
       "    <tr>\n",
       "      <th>mean</th>\n",
       "      <td>14.127292</td>\n",
       "      <td>19.289649</td>\n",
       "      <td>91.969033</td>\n",
       "      <td>654.889104</td>\n",
       "      <td>0.096360</td>\n",
       "      <td>0.627417</td>\n",
       "    </tr>\n",
       "    <tr>\n",
       "      <th>std</th>\n",
       "      <td>3.524049</td>\n",
       "      <td>4.301036</td>\n",
       "      <td>24.298981</td>\n",
       "      <td>351.914129</td>\n",
       "      <td>0.014064</td>\n",
       "      <td>0.483918</td>\n",
       "    </tr>\n",
       "    <tr>\n",
       "      <th>min</th>\n",
       "      <td>6.981000</td>\n",
       "      <td>9.710000</td>\n",
       "      <td>43.790000</td>\n",
       "      <td>143.500000</td>\n",
       "      <td>0.052630</td>\n",
       "      <td>0.000000</td>\n",
       "    </tr>\n",
       "    <tr>\n",
       "      <th>25%</th>\n",
       "      <td>11.700000</td>\n",
       "      <td>16.170000</td>\n",
       "      <td>75.170000</td>\n",
       "      <td>420.300000</td>\n",
       "      <td>0.086370</td>\n",
       "      <td>0.000000</td>\n",
       "    </tr>\n",
       "    <tr>\n",
       "      <th>50%</th>\n",
       "      <td>13.370000</td>\n",
       "      <td>18.840000</td>\n",
       "      <td>86.240000</td>\n",
       "      <td>551.100000</td>\n",
       "      <td>0.095870</td>\n",
       "      <td>1.000000</td>\n",
       "    </tr>\n",
       "    <tr>\n",
       "      <th>75%</th>\n",
       "      <td>15.780000</td>\n",
       "      <td>21.800000</td>\n",
       "      <td>104.100000</td>\n",
       "      <td>782.700000</td>\n",
       "      <td>0.105300</td>\n",
       "      <td>1.000000</td>\n",
       "    </tr>\n",
       "    <tr>\n",
       "      <th>max</th>\n",
       "      <td>28.110000</td>\n",
       "      <td>39.280000</td>\n",
       "      <td>188.500000</td>\n",
       "      <td>2501.000000</td>\n",
       "      <td>0.163400</td>\n",
       "      <td>1.000000</td>\n",
       "    </tr>\n",
       "  </tbody>\n",
       "</table>\n",
       "</div>"
      ],
      "text/plain": [
       "       mean_radius  mean_texture  mean_perimeter    mean_area  \\\n",
       "count   569.000000    569.000000      569.000000   569.000000   \n",
       "mean     14.127292     19.289649       91.969033   654.889104   \n",
       "std       3.524049      4.301036       24.298981   351.914129   \n",
       "min       6.981000      9.710000       43.790000   143.500000   \n",
       "25%      11.700000     16.170000       75.170000   420.300000   \n",
       "50%      13.370000     18.840000       86.240000   551.100000   \n",
       "75%      15.780000     21.800000      104.100000   782.700000   \n",
       "max      28.110000     39.280000      188.500000  2501.000000   \n",
       "\n",
       "       mean_smoothness   diagnosis  \n",
       "count       569.000000  569.000000  \n",
       "mean          0.096360    0.627417  \n",
       "std           0.014064    0.483918  \n",
       "min           0.052630    0.000000  \n",
       "25%           0.086370    0.000000  \n",
       "50%           0.095870    1.000000  \n",
       "75%           0.105300    1.000000  \n",
       "max           0.163400    1.000000  "
      ]
     },
     "execution_count": 3,
     "metadata": {},
     "output_type": "execute_result"
    }
   ],
   "source": [
    "df.describe()"
   ]
  },
  {
   "cell_type": "code",
   "execution_count": 4,
   "id": "567140ad",
   "metadata": {},
   "outputs": [
    {
     "name": "stdout",
     "output_type": "stream",
     "text": [
      "<class 'pandas.core.frame.DataFrame'>\n",
      "RangeIndex: 569 entries, 0 to 568\n",
      "Data columns (total 6 columns):\n",
      " #   Column           Non-Null Count  Dtype  \n",
      "---  ------           --------------  -----  \n",
      " 0   mean_radius      569 non-null    float64\n",
      " 1   mean_texture     569 non-null    float64\n",
      " 2   mean_perimeter   569 non-null    float64\n",
      " 3   mean_area        569 non-null    float64\n",
      " 4   mean_smoothness  569 non-null    float64\n",
      " 5   diagnosis        569 non-null    int64  \n",
      "dtypes: float64(5), int64(1)\n",
      "memory usage: 26.8 KB\n"
     ]
    }
   ],
   "source": [
    "df.info()"
   ]
  },
  {
   "cell_type": "code",
   "execution_count": 5,
   "id": "0e2ede57",
   "metadata": {},
   "outputs": [
    {
     "data": {
      "text/html": [
       "<div>\n",
       "<style scoped>\n",
       "    .dataframe tbody tr th:only-of-type {\n",
       "        vertical-align: middle;\n",
       "    }\n",
       "\n",
       "    .dataframe tbody tr th {\n",
       "        vertical-align: top;\n",
       "    }\n",
       "\n",
       "    .dataframe thead th {\n",
       "        text-align: right;\n",
       "    }\n",
       "</style>\n",
       "<table border=\"1\" class=\"dataframe\">\n",
       "  <thead>\n",
       "    <tr style=\"text-align: right;\">\n",
       "      <th></th>\n",
       "      <th>mean_radius</th>\n",
       "      <th>mean_texture</th>\n",
       "      <th>mean_perimeter</th>\n",
       "      <th>mean_area</th>\n",
       "      <th>mean_smoothness</th>\n",
       "      <th>diagnosis</th>\n",
       "    </tr>\n",
       "  </thead>\n",
       "  <tbody>\n",
       "    <tr>\n",
       "      <th>0</th>\n",
       "      <td>17.99</td>\n",
       "      <td>10.38</td>\n",
       "      <td>122.80</td>\n",
       "      <td>1001.0</td>\n",
       "      <td>0.11840</td>\n",
       "      <td>0</td>\n",
       "    </tr>\n",
       "    <tr>\n",
       "      <th>1</th>\n",
       "      <td>20.57</td>\n",
       "      <td>17.77</td>\n",
       "      <td>132.90</td>\n",
       "      <td>1326.0</td>\n",
       "      <td>0.08474</td>\n",
       "      <td>0</td>\n",
       "    </tr>\n",
       "    <tr>\n",
       "      <th>2</th>\n",
       "      <td>19.69</td>\n",
       "      <td>21.25</td>\n",
       "      <td>130.00</td>\n",
       "      <td>1203.0</td>\n",
       "      <td>0.10960</td>\n",
       "      <td>0</td>\n",
       "    </tr>\n",
       "    <tr>\n",
       "      <th>3</th>\n",
       "      <td>11.42</td>\n",
       "      <td>20.38</td>\n",
       "      <td>77.58</td>\n",
       "      <td>386.1</td>\n",
       "      <td>0.14250</td>\n",
       "      <td>0</td>\n",
       "    </tr>\n",
       "    <tr>\n",
       "      <th>4</th>\n",
       "      <td>20.29</td>\n",
       "      <td>14.34</td>\n",
       "      <td>135.10</td>\n",
       "      <td>1297.0</td>\n",
       "      <td>0.10030</td>\n",
       "      <td>0</td>\n",
       "    </tr>\n",
       "  </tbody>\n",
       "</table>\n",
       "</div>"
      ],
      "text/plain": [
       "   mean_radius  mean_texture  mean_perimeter  mean_area  mean_smoothness  \\\n",
       "0        17.99         10.38          122.80     1001.0          0.11840   \n",
       "1        20.57         17.77          132.90     1326.0          0.08474   \n",
       "2        19.69         21.25          130.00     1203.0          0.10960   \n",
       "3        11.42         20.38           77.58      386.1          0.14250   \n",
       "4        20.29         14.34          135.10     1297.0          0.10030   \n",
       "\n",
       "   diagnosis  \n",
       "0          0  \n",
       "1          0  \n",
       "2          0  \n",
       "3          0  \n",
       "4          0  "
      ]
     },
     "execution_count": 5,
     "metadata": {},
     "output_type": "execute_result"
    }
   ],
   "source": [
    "df.head()"
   ]
  },
  {
   "cell_type": "code",
   "execution_count": 6,
   "id": "3875c457",
   "metadata": {},
   "outputs": [
    {
     "data": {
      "image/png": "[encoded data removed]",
      "text/plain": [
       "<Figure size 640x480 with 1 Axes>"
      ]
     },
     "metadata": {},
     "output_type": "display_data"
    },
    {
     "data": {
      "image/png": "[encoded data removed]",
      "text/plain": [
       "<Figure size 640x480 with 1 Axes>"
      ]
     },
     "metadata": {},
     "output_type": "display_data"
    },
    {
     "data": {
      "image/png": "[encoded data removed]",
      "text/plain": [
       "<Figure size 640x480 with 1 Axes>"
      ]
     },
     "metadata": {},
     "output_type": "display_data"
    },
    {
     "data": {
      "image/png": "[encoded data removed]",
      "text/plain": [
       "<Figure size 640x480 with 1 Axes>"
      ]
     },
     "metadata": {},
     "output_type": "display_data"
    },
    {
     "data": {
      "image/png": "[encoded data removed]",
      "text/plain": [
       "<Figure size 640x480 with 1 Axes>"
      ]
     },
     "metadata": {},
     "output_type": "display_data"
    },
    {
     "data": {
      "image/png": "[encoded data removed]",
      "text/plain": [
       "<Figure size 640x480 with 1 Axes>"
      ]
     },
     "metadata": {},
     "output_type": "display_data"
    }
   ],
   "source": [
    "for i in df.columns:\n",
    "    plt.hist(df[i])\n",
    "    plt.title(i)\n",
    "    plt.show()"
   ]
  },
  {
   "cell_type": "code",
   "execution_count": 7,
   "id": "e927c5cf",
   "metadata": {},
   "outputs": [
    {
     "name": "stdout",
     "output_type": "stream",
     "text": [
      "                 mean_radius  mean_texture  mean_perimeter  mean_area  \\\n",
      "mean_radius         1.000000      0.323782        0.997855   0.987357   \n",
      "mean_texture        0.323782      1.000000        0.329533   0.321086   \n",
      "mean_perimeter      0.997855      0.329533        1.000000   0.986507   \n",
      "mean_area           0.987357      0.321086        0.986507   1.000000   \n",
      "mean_smoothness     0.170581     -0.023389        0.207278   0.177028   \n",
      "diagnosis          -0.730029     -0.415185       -0.742636  -0.708984   \n",
      "\n",
      "                 mean_smoothness  diagnosis  \n",
      "mean_radius             0.170581  -0.730029  \n",
      "mean_texture           -0.023389  -0.415185  \n",
      "mean_perimeter          0.207278  -0.742636  \n",
      "mean_area               0.177028  -0.708984  \n",
      "mean_smoothness         1.000000  -0.358560  \n",
      "diagnosis              -0.358560   1.000000  \n"
     ]
    },
    {
     "data": {
      "text/plain": [
       "<Axes: >"
      ]
     },
     "execution_count": 7,
     "metadata": {},
     "output_type": "execute_result"
    },
    {
     "data": {
      "image/png": "[encoded data removed]",
      "text/plain": [
       "<Figure size 640x480 with 2 Axes>"
      ]
     },
     "metadata": {},
     "output_type": "display_data"
    }
   ],
   "source": [
    "print(df.corr())\n",
    "sns.heatmap(df.corr())"
   ]
  },
  {
   "cell_type": "code",
   "execution_count": 8,
   "id": "cca97677",
   "metadata": {},
   "outputs": [],
   "source": [
    "from sklearn.ensemble import RandomForestClassifier\n",
    "from sklearn.tree import DecisionTreeClassifier\n",
    "from sklearn.svm import SVC\n",
    "from sklearn.neighbors import KNeighborsClassifier\n",
    "from sklearn.model_selection import train_test_split\n",
    "from sklearn.metrics import r2_score,accuracy_score"
   ]
  },
  {
   "cell_type": "code",
   "execution_count": 9,
   "id": "cf52c6ce",
   "metadata": {},
   "outputs": [],
   "source": [
    "x=df.drop('diagnosis',axis=1)\n",
    "y=df['diagnosis']"
   ]
  },
  {
   "cell_type": "code",
   "execution_count": 10,
   "id": "f7447147",
   "metadata": {},
   "outputs": [],
   "source": [
    "x_train,x_val,y_train,y_val=train_test_split(x,y,random_state=0,test_size=0.2)"
   ]
  },
  {
   "cell_type": "code",
   "execution_count": 11,
   "id": "6e80abbe",
   "metadata": {},
   "outputs": [],
   "source": [
    "model1 = KNeighborsClassifier()"
   ]
  },
  {
   "cell_type": "code",
   "execution_count": 12,
   "id": "855f2571",
   "metadata": {},
   "outputs": [
    {
     "data": {
      "text/html": [
       "<style>#sk-container-id-1 {color: black;}#sk-container-id-1 pre{padding: 0;}#sk-container-id-1 div.sk-toggleable {background-color: white;}#sk-container-id-1 label.sk-toggleable__label {cursor: pointer;display: block;width: 100%;margin-bottom: 0;padding: 0.3em;box-sizing: border-box;text-align: center;}#sk-container-id-1 label.sk-toggleable__label-arrow:before {content: \"▸\";float: left;margin-right: 0.25em;color: #696969;}#sk-container-id-1 label.sk-toggleable__label-arrow:hover:before {color: black;}#sk-container-id-1 div.sk-estimator:hover label.sk-toggleable__label-arrow:before {color: black;}#sk-container-id-1 div.sk-toggleable__content {max-height: 0;max-width: 0;overflow: hidden;text-align: left;background-color: #f0f8ff;}#sk-container-id-1 div.sk-toggleable__content pre {margin: 0.2em;color: black;border-radius: 0.25em;background-color: #f0f8ff;}#sk-container-id-1 input.sk-toggleable__control:checked~div.sk-toggleable__content {max-height: 200px;max-width: 100%;overflow: auto;}#sk-container-id-1 input.sk-toggleable__control:checked~label.sk-toggleable__label-arrow:before {content: \"▾\";}#sk-container-id-1 div.sk-estimator input.sk-toggleable__control:checked~label.sk-toggleable__label {background-color: #d4ebff;}#sk-container-id-1 div.sk-label input.sk-toggleable__control:checked~label.sk-toggleable__label {background-color: #d4ebff;}#sk-container-id-1 input.sk-hidden--visually {border: 0;clip: rect(1px 1px 1px 1px);clip: rect(1px, 1px, 1px, 1px);height: 1px;margin: -1px;overflow: hidden;padding: 0;position: absolute;width: 1px;}#sk-container-id-1 div.sk-estimator {font-family: monospace;background-color: #f0f8ff;border: 1px dotted black;border-radius: 0.25em;box-sizing: border-box;margin-bottom: 0.5em;}#sk-container-id-1 div.sk-estimator:hover {background-color: #d4ebff;}#sk-container-id-1 div.sk-parallel-item::after {content: \"\";width: 100%;border-bottom: 1px solid gray;flex-grow: 1;}#sk-container-id-1 div.sk-label:hover label.sk-toggleable__label {background-color: #d4ebff;}#sk-container-id-1 div.sk-serial::before {content: \"\";position: absolute;border-left: 1px solid gray;box-sizing: border-box;top: 0;bottom: 0;left: 50%;z-index: 0;}#sk-container-id-1 div.sk-serial {display: flex;flex-direction: column;align-items: center;background-color: white;padding-right: 0.2em;padding-left: 0.2em;position: relative;}#sk-container-id-1 div.sk-item {position: relative;z-index: 1;}#sk-container-id-1 div.sk-parallel {display: flex;align-items: stretch;justify-content: center;background-color: white;position: relative;}#sk-container-id-1 div.sk-item::before, #sk-container-id-1 div.sk-parallel-item::before {content: \"\";position: absolute;border-left: 1px solid gray;box-sizing: border-box;top: 0;bottom: 0;left: 50%;z-index: -1;}#sk-container-id-1 div.sk-parallel-item {display: flex;flex-direction: column;z-index: 1;position: relative;background-color: white;}#sk-container-id-1 div.sk-parallel-item:first-child::after {align-self: flex-end;width: 50%;}#sk-container-id-1 div.sk-parallel-item:last-child::after {align-self: flex-start;width: 50%;}#sk-container-id-1 div.sk-parallel-item:only-child::after {width: 0;}#sk-container-id-1 div.sk-dashed-wrapped {border: 1px dashed gray;margin: 0 0.4em 0.5em 0.4em;box-sizing: border-box;padding-bottom: 0.4em;background-color: white;}#sk-container-id-1 div.sk-label label {font-family: monospace;font-weight: bold;display: inline-block;line-height: 1.2em;}#sk-container-id-1 div.sk-label-container {text-align: center;}#sk-container-id-1 div.sk-container {/* jupyter's `normalize.less` sets `[hidden] { display: none; }` but bootstrap.min.css set `[hidden] { display: none !important; }` so we also need the `!important` here to be able to override the default hidden behavior on the sphinx rendered scikit-learn.org. See: https://github.com/scikit-learn/scikit-learn/issues/21755 */display: inline-block !important;position: relative;}#sk-container-id-1 div.sk-text-repr-fallback {display: none;}</style><div id=\"sk-container-id-1\" class=\"sk-top-container\"><div class=\"sk-text-repr-fallback\"><pre>KNeighborsClassifier()</pre><b>In a Jupyter environment, please rerun this cell to show the HTML representation or trust the notebook. <br />On GitHub, the HTML representation is unable to render, please try loading this page with nbviewer.org.</b></div><div class=\"sk-container\" hidden><div class=\"sk-item\"><div class=\"sk-estimator sk-toggleable\"><input class=\"sk-toggleable__control sk-hidden--visually\" id=\"sk-estimator-id-1\" type=\"checkbox\" checked><label for=\"sk-estimator-id-1\" class=\"sk-toggleable__label sk-toggleable__label-arrow\">KNeighborsClassifier</label><div class=\"sk-toggleable__content\"><pre>KNeighborsClassifier()</pre></div></div></div></div></div>"
      ],
      "text/plain": [
       "KNeighborsClassifier()"
      ]
     },
     "execution_count": 12,
     "metadata": {},
     "output_type": "execute_result"
    }
   ],
   "source": [
    "model1.fit(x_train,y_train)"
   ]
  },
  {
   "cell_type": "code",
   "execution_count": 13,
   "id": "a634c481",
   "metadata": {},
   "outputs": [],
   "source": [
    "predict1 = model1.predict(x_val)"
   ]
  },
  {
   "cell_type": "code",
   "execution_count": 14,
   "id": "c67467b3",
   "metadata": {},
   "outputs": [
    {
     "data": {
      "text/plain": [
       "0.9122807017543859"
      ]
     },
     "execution_count": 14,
     "metadata": {},
     "output_type": "execute_result"
    }
   ],
   "source": [
    "accuracy_score(y_val,predict1)"
   ]
  },
  {
   "cell_type": "code",
   "execution_count": 15,
   "id": "5956d6b4",
   "metadata": {},
   "outputs": [],
   "source": [
    "model2 = RandomForestClassifier().fit(x_train,y_train)"
   ]
  },
  {
   "cell_type": "code",
   "execution_count": 16,
   "id": "7da239c7",
   "metadata": {},
   "outputs": [],
   "source": [
    "predict2 = model2.predict(x_val)"
   ]
  },
  {
   "cell_type": "code",
   "execution_count": 17,
   "id": "db586fe7",
   "metadata": {},
   "outputs": [
    {
     "data": {
      "text/plain": [
       "0.9298245614035088"
      ]
     },
     "execution_count": 17,
     "metadata": {},
     "output_type": "execute_result"
    }
   ],
   "source": [
    "accuracy_score(y_val,predict2)"
   ]
  },
  {
   "cell_type": "code",
   "execution_count": 18,
   "id": "d9cb7841",
   "metadata": {},
   "outputs": [],
   "source": [
    "model3 = DecisionTreeClassifier().fit(x_train,y_train)"
   ]
  },
  {
   "cell_type": "code",
   "execution_count": 19,
   "id": "f8e0c5f5",
   "metadata": {},
   "outputs": [],
   "source": [
    "predict3 = model3.predict(x_val)"
   ]
  },
  {
   "cell_type": "code",
   "execution_count": 20,
   "id": "20de7a46",
   "metadata": {},
   "outputs": [
    {
     "data": {
      "text/plain": [
       "0.8859649122807017"
      ]
     },
     "execution_count": 20,
     "metadata": {},
     "output_type": "execute_result"
    }
   ],
   "source": [
    "accuracy_score(y_val,predict3)"
   ]
  },
  {
   "cell_type": "code",
   "execution_count": 21,
   "id": "0f0c500c",
   "metadata": {},
   "outputs": [],
   "source": [
    "model4 = SVC().fit(x_train,y_train)"
   ]
  },
  {
   "cell_type": "code",
   "execution_count": 22,
   "id": "69a87bb9",
   "metadata": {},
   "outputs": [],
   "source": [
    "predict4 = model4.predict(x_val)"
   ]
  },
  {
   "cell_type": "code",
   "execution_count": 23,
   "id": "fbef40bf",
   "metadata": {},
   "outputs": [
    {
     "data": {
      "text/plain": [
       "0.8771929824561403"
      ]
     },
     "execution_count": 23,
     "metadata": {},
     "output_type": "execute_result"
    }
   ],
   "source": [
    "accuracy_score(y_val,predict4)"
   ]
  },
  {
   "cell_type": "code",
   "execution_count": 24,
   "id": "bc48480f",
   "metadata": {},
   "outputs": [
    {
     "name": "stdout",
     "output_type": "stream",
     "text": [
      "WARNING:tensorflow:From C:\\Users\\sange\\anaconda3\\Lib\\site-packages\\keras\\src\\losses.py:2976: The name tf.losses.sparse_softmax_cross_entropy is deprecated. Please use tf.compat.v1.losses.sparse_softmax_cross_entropy instead.\n",
      "\n"
     ]
    }
   ],
   "source": [
    "from tensorflow import keras\n",
    "from tensorflow.keras import layers,callbacks"
   ]
  },
  {
   "cell_type": "code",
   "execution_count": 25,
   "id": "f59acd80",
   "metadata": {},
   "outputs": [],
   "source": [
    "early_stopping = callbacks.EarlyStopping(min_delta=0.001,patience=20,restore_best_weights=True)"
   ]
  },
  {
   "cell_type": "code",
   "execution_count": 26,
   "id": "d4ad4329",
   "metadata": {},
   "outputs": [
    {
     "name": "stdout",
     "output_type": "stream",
     "text": [
      "WARNING:tensorflow:From C:\\Users\\sange\\anaconda3\\Lib\\site-packages\\keras\\src\\backend.py:873: The name tf.get_default_graph is deprecated. Please use tf.compat.v1.get_default_graph instead.\n",
      "\n"
     ]
    }
   ],
   "source": [
    "model = keras.Sequential([layers.Dense(512,activation='relu',input_shape=[5]),\n",
    "                          layers.BatchNormalization(),\n",
    "                          layers.Dense(512,activation='relu'),\n",
    "                          layers.BatchNormalization(),\n",
    "                          layers.Dense(units=1,activation='sigmoid'),])"
   ]
  },
  {
   "cell_type": "code",
   "execution_count": 27,
   "id": "723fc39e",
   "metadata": {},
   "outputs": [
    {
     "name": "stdout",
     "output_type": "stream",
     "text": [
      "WARNING:tensorflow:From C:\\Users\\sange\\anaconda3\\Lib\\site-packages\\keras\\src\\optimizers\\__init__.py:309: The name tf.train.Optimizer is deprecated. Please use tf.compat.v1.train.Optimizer instead.\n",
      "\n"
     ]
    }
   ],
   "source": [
    "model.compile(optimizer='adam',loss='mae')"
   ]
  },
  {
   "cell_type": "code",
   "execution_count": 28,
   "id": "2394dc6b",
   "metadata": {},
   "outputs": [
    {
     "name": "stdout",
     "output_type": "stream",
     "text": [
      "Epoch 1/50\n",
      "WARNING:tensorflow:From C:\\Users\\sange\\anaconda3\\Lib\\site-packages\\keras\\src\\utils\\tf_utils.py:492: The name tf.ragged.RaggedTensorValue is deprecated. Please use tf.compat.v1.ragged.RaggedTensorValue instead.\n",
      "\n",
      "2/2 [==============================] - 2s 366ms/step - loss: 0.4270 - val_loss: 0.5877\n",
      "Epoch 2/50\n",
      "2/2 [==============================] - 0s 44ms/step - loss: 0.1388 - val_loss: 0.5877\n",
      "Epoch 3/50\n",
      "2/2 [==============================] - 0s 45ms/step - loss: 0.1233 - val_loss: 0.5877\n",
      "Epoch 4/50\n",
      "2/2 [==============================] - 0s 46ms/step - loss: 0.1275 - val_loss: 0.5877\n",
      "Epoch 5/50\n",
      "2/2 [==============================] - 0s 45ms/step - loss: 0.1145 - val_loss: 0.5877\n",
      "Epoch 6/50\n",
      "2/2 [==============================] - 0s 45ms/step - loss: 0.1141 - val_loss: 0.5877\n",
      "Epoch 7/50\n",
      "2/2 [==============================] - 0s 46ms/step - loss: 0.1081 - val_loss: 0.5877\n",
      "Epoch 8/50\n",
      "2/2 [==============================] - 0s 42ms/step - loss: 0.1011 - val_loss: 0.5877\n",
      "Epoch 9/50\n",
      "2/2 [==============================] - 0s 43ms/step - loss: 0.1045 - val_loss: 0.5877\n",
      "Epoch 10/50\n",
      "2/2 [==============================] - 0s 44ms/step - loss: 0.1022 - val_loss: 0.5877\n",
      "Epoch 11/50\n",
      "2/2 [==============================] - 0s 45ms/step - loss: 0.1036 - val_loss: 0.5877\n",
      "Epoch 12/50\n",
      "2/2 [==============================] - 0s 43ms/step - loss: 0.1033 - val_loss: 0.5877\n",
      "Epoch 13/50\n",
      "2/2 [==============================] - 0s 44ms/step - loss: 0.0999 - val_loss: 0.5876\n",
      "Epoch 14/50\n",
      "2/2 [==============================] - 0s 43ms/step - loss: 0.0991 - val_loss: 0.5875\n",
      "Epoch 15/50\n",
      "2/2 [==============================] - 0s 42ms/step - loss: 0.0952 - val_loss: 0.5872\n",
      "Epoch 16/50\n",
      "2/2 [==============================] - 0s 45ms/step - loss: 0.0973 - val_loss: 0.5867\n",
      "Epoch 17/50\n",
      "2/2 [==============================] - 0s 48ms/step - loss: 0.0928 - val_loss: 0.5857\n",
      "Epoch 18/50\n",
      "2/2 [==============================] - 0s 47ms/step - loss: 0.0951 - val_loss: 0.5842\n",
      "Epoch 19/50\n",
      "2/2 [==============================] - 0s 44ms/step - loss: 0.0907 - val_loss: 0.5825\n",
      "Epoch 20/50\n",
      "2/2 [==============================] - 0s 47ms/step - loss: 0.0891 - val_loss: 0.5798\n",
      "Epoch 21/50\n",
      "2/2 [==============================] - 0s 46ms/step - loss: 0.0935 - val_loss: 0.5771\n",
      "Epoch 22/50\n",
      "2/2 [==============================] - 0s 46ms/step - loss: 0.0908 - val_loss: 0.5740\n",
      "Epoch 23/50\n",
      "2/2 [==============================] - 0s 47ms/step - loss: 0.0896 - val_loss: 0.5697\n",
      "Epoch 24/50\n",
      "2/2 [==============================] - 0s 45ms/step - loss: 0.0893 - val_loss: 0.5631\n",
      "Epoch 25/50\n",
      "2/2 [==============================] - 0s 46ms/step - loss: 0.0890 - val_loss: 0.5567\n",
      "Epoch 26/50\n",
      "2/2 [==============================] - 0s 45ms/step - loss: 0.0879 - val_loss: 0.5519\n",
      "Epoch 27/50\n",
      "2/2 [==============================] - 0s 48ms/step - loss: 0.0849 - val_loss: 0.5461\n",
      "Epoch 28/50\n",
      "2/2 [==============================] - 0s 49ms/step - loss: 0.0869 - val_loss: 0.5378\n",
      "Epoch 29/50\n",
      "2/2 [==============================] - 0s 52ms/step - loss: 0.0834 - val_loss: 0.5266\n",
      "Epoch 30/50\n",
      "2/2 [==============================] - 0s 50ms/step - loss: 0.0821 - val_loss: 0.5231\n",
      "Epoch 31/50\n",
      "2/2 [==============================] - 0s 47ms/step - loss: 0.0845 - val_loss: 0.5222\n",
      "Epoch 32/50\n",
      "2/2 [==============================] - 0s 52ms/step - loss: 0.0817 - val_loss: 0.5187\n",
      "Epoch 33/50\n",
      "2/2 [==============================] - 0s 51ms/step - loss: 0.0898 - val_loss: 0.5100\n",
      "Epoch 34/50\n",
      "2/2 [==============================] - 0s 47ms/step - loss: 0.0802 - val_loss: 0.5037\n",
      "Epoch 35/50\n",
      "2/2 [==============================] - 0s 45ms/step - loss: 0.0821 - val_loss: 0.4991\n",
      "Epoch 36/50\n",
      "2/2 [==============================] - 0s 45ms/step - loss: 0.0816 - val_loss: 0.4937\n",
      "Epoch 37/50\n",
      "2/2 [==============================] - 0s 45ms/step - loss: 0.0832 - val_loss: 0.4785\n",
      "Epoch 38/50\n",
      "2/2 [==============================] - 0s 46ms/step - loss: 0.0817 - val_loss: 0.4634\n",
      "Epoch 39/50\n",
      "2/2 [==============================] - 0s 42ms/step - loss: 0.0822 - val_loss: 0.4647\n",
      "Epoch 40/50\n",
      "2/2 [==============================] - 0s 44ms/step - loss: 0.0789 - val_loss: 0.4615\n",
      "Epoch 41/50\n",
      "2/2 [==============================] - 0s 46ms/step - loss: 0.0803 - val_loss: 0.4538\n",
      "Epoch 42/50\n",
      "2/2 [==============================] - 0s 42ms/step - loss: 0.0878 - val_loss: 0.4528\n",
      "Epoch 43/50\n",
      "2/2 [==============================] - 0s 45ms/step - loss: 0.0755 - val_loss: 0.4493\n",
      "Epoch 44/50\n",
      "2/2 [==============================] - 0s 44ms/step - loss: 0.0774 - val_loss: 0.4414\n",
      "Epoch 45/50\n",
      "2/2 [==============================] - 0s 45ms/step - loss: 0.0790 - val_loss: 0.4211\n",
      "Epoch 46/50\n",
      "2/2 [==============================] - 0s 46ms/step - loss: 0.0754 - val_loss: 0.4032\n",
      "Epoch 47/50\n",
      "2/2 [==============================] - 0s 44ms/step - loss: 0.0748 - val_loss: 0.4033\n",
      "Epoch 48/50\n",
      "2/2 [==============================] - 0s 47ms/step - loss: 0.0739 - val_loss: 0.3874\n",
      "Epoch 49/50\n",
      "2/2 [==============================] - 0s 44ms/step - loss: 0.0753 - val_loss: 0.3805\n",
      "Epoch 50/50\n",
      "2/2 [==============================] - 0s 45ms/step - loss: 0.0732 - val_loss: 0.3752\n"
     ]
    }
   ],
   "source": [
    "history = model.fit(x_train,y_train,\n",
    "                    validation_data=(x_val,y_val),\n",
    "                    batch_size=256,\n",
    "                    epochs=50,\n",
    "                    callbacks=[early_stopping],)"
   ]
  },
  {
   "cell_type": "code",
   "execution_count": 29,
   "id": "7d84748b",
   "metadata": {},
   "outputs": [
    {
     "name": "stdout",
     "output_type": "stream",
     "text": [
      "4/4 [==============================] - 0s 2ms/step\n"
     ]
    }
   ],
   "source": [
    "pred = model.predict(x_val)"
   ]
  },
  {
   "cell_type": "code",
   "execution_count": 30,
   "id": "b895512d",
   "metadata": {},
   "outputs": [
    {
     "data": {
      "text/plain": [
       "array([[2.8960360e-03],\n",
       "       [9.4637359e-03],\n",
       "       [3.0532763e-03],\n",
       "       [8.4938441e-04],\n",
       "       [3.1958289e-02],\n",
       "       [4.9271822e-01],\n",
       "       [1.6335368e-01],\n",
       "       [4.8691228e-01],\n",
       "       [9.9683112e-01],\n",
       "       [6.7756891e-01],\n",
       "       [2.1898829e-04],\n",
       "       [9.4826872e-05],\n",
       "       [9.4041204e-01],\n",
       "       [2.5554289e-07],\n",
       "       [3.4655299e-04],\n",
       "       [4.4767821e-05],\n",
       "       [8.1872553e-01],\n",
       "       [4.1207028e-14],\n",
       "       [6.7640941e-12],\n",
       "       [1.5915963e-14],\n",
       "       [2.0672794e-01],\n",
       "       [7.5584160e-07],\n",
       "       [1.5282104e-02],\n",
       "       [3.9220124e-01],\n",
       "       [4.1568416e-14],\n",
       "       [5.8464450e-01],\n",
       "       [7.4565077e-01],\n",
       "       [4.2042171e-04],\n",
       "       [1.3548645e-02],\n",
       "       [1.5830165e-10],\n",
       "       [1.3398658e-01],\n",
       "       [3.0135014e-13],\n",
       "       [7.6192310e-03],\n",
       "       [8.4938443e-07],\n",
       "       [8.6570191e-01],\n",
       "       [2.6821963e-02],\n",
       "       [1.8224774e-02],\n",
       "       [9.0853679e-11],\n",
       "       [2.4283708e-04],\n",
       "       [1.4061055e-05],\n",
       "       [1.2217225e-05],\n",
       "       [9.2495829e-01],\n",
       "       [1.8759048e-06],\n",
       "       [7.8802359e-01],\n",
       "       [5.9581483e-03],\n",
       "       [6.9979490e-16],\n",
       "       [9.5424277e-01],\n",
       "       [1.1374973e-03],\n",
       "       [4.1873044e-01],\n",
       "       [3.6859456e-05],\n",
       "       [6.3228450e-12],\n",
       "       [1.9407278e-05],\n",
       "       [3.3201089e-10],\n",
       "       [4.9964064e-01],\n",
       "       [8.8766836e-02],\n",
       "       [5.2274638e-01],\n",
       "       [7.8606963e-01],\n",
       "       [2.5493500e-01],\n",
       "       [2.4478051e-01],\n",
       "       [3.5461580e-16],\n",
       "       [9.1048842e-04],\n",
       "       [1.8098924e-06],\n",
       "       [6.0387051e-01],\n",
       "       [5.1226340e-02],\n",
       "       [1.9250139e-09],\n",
       "       [3.2896566e-01],\n",
       "       [1.4253145e-16],\n",
       "       [2.5016236e-09],\n",
       "       [2.4098795e-13],\n",
       "       [9.2492884e-01],\n",
       "       [4.6382422e-04],\n",
       "       [6.7977595e-07],\n",
       "       [4.6066874e-01],\n",
       "       [1.1876408e-04],\n",
       "       [4.1557960e-10],\n",
       "       [2.0186190e-02],\n",
       "       [9.3717611e-01],\n",
       "       [1.6538762e-02],\n",
       "       [5.5739570e-01],\n",
       "       [9.5537788e-01],\n",
       "       [8.9591403e-08],\n",
       "       [6.8906591e-14],\n",
       "       [1.0798087e-06],\n",
       "       [1.8006822e-01],\n",
       "       [3.9517804e-06],\n",
       "       [3.1678930e-01],\n",
       "       [2.8350437e-02],\n",
       "       [9.7505116e-01],\n",
       "       [3.1679889e-08],\n",
       "       [4.0553085e-14],\n",
       "       [8.5622513e-01],\n",
       "       [5.0981536e-05],\n",
       "       [3.6855938e-05],\n",
       "       [1.9120575e-06],\n",
       "       [9.4735152e-01],\n",
       "       [8.0447537e-01],\n",
       "       [2.1545720e-06],\n",
       "       [3.5663299e-02],\n",
       "       [4.5177862e-01],\n",
       "       [4.2582503e-01],\n",
       "       [8.3495665e-01],\n",
       "       [1.5230584e-01],\n",
       "       [9.7321965e-05],\n",
       "       [4.0172992e-04],\n",
       "       [5.7529492e-10],\n",
       "       [6.3158023e-01],\n",
       "       [6.4601147e-10],\n",
       "       [2.4080455e-02],\n",
       "       [1.2777357e-05],\n",
       "       [6.5217969e-09],\n",
       "       [5.2372552e-02],\n",
       "       [1.1955331e-12],\n",
       "       [6.1059158e-10],\n",
       "       [7.1679315e-05]], dtype=float32)"
      ]
     },
     "execution_count": 30,
     "metadata": {},
     "output_type": "execute_result"
    }
   ],
   "source": [
    "pred"
   ]
  },
  {
   "cell_type": "code",
   "execution_count": 31,
   "id": "7db44959",
   "metadata": {},
   "outputs": [
    {
     "name": "stdout",
     "output_type": "stream",
     "text": [
      "ROC_AUC Score :  0.9650682756430613\n",
      "Function for ROC_AUC Score :  0.9650682756430613\n",
      "Threshold value is: 7.1679315e-05\n"
     ]
    },
    {
     "data": {
      "image/png": "[encoded data removed]",
      "text/plain": [
       "<Figure size 640x480 with 1 Axes>"
      ]
     },
     "metadata": {},
     "output_type": "display_data"
    }
   ],
   "source": [
    "from sklearn.metrics import roc_curve\n",
    "from sklearn.metrics import auc\n",
    "from sklearn.metrics import roc_auc_score\n",
    "def plot_roc_curve(fpr, tpr):\n",
    "    plt.plot(fpr, tpr, color='orange', label='ROC')\n",
    "    plt.plot([0, 1], [0, 1], color='darkblue', linestyle='--')\n",
    "    plt.xlabel('False Positive Rate')\n",
    "    plt.ylabel('True Positive Rate')\n",
    "    plt.title('Receiver Operating Characteristic (ROC) Curve')\n",
    "    plt.legend()\n",
    "    plt.show()\n",
    "fpr, tpr, thresholds = roc_curve(y_val, pred)\n",
    "roc_auc = auc(fpr, tpr)\n",
    "print(\"ROC_AUC Score : \",roc_auc)\n",
    "print(\"Function for ROC_AUC Score : \",roc_auc_score(y_val, pred))\n",
    "optimal_idx = np.argmax(tpr - fpr)\n",
    "optimal_threshold = thresholds[optimal_idx]\n",
    "print(\"Threshold value is:\", optimal_threshold)\n",
    "plot_roc_curve(fpr, tpr)"
   ]
  },
  {
   "cell_type": "code",
   "execution_count": 32,
   "id": "abd500ba",
   "metadata": {},
   "outputs": [],
   "source": [
    "prediction_classes = [1 if prob > optimal_threshold else 0 for prob in np.ravel(pred)]"
   ]
  },
  {
   "cell_type": "code",
   "execution_count": 33,
   "id": "cd5d0c75",
   "metadata": {},
   "outputs": [
    {
     "data": {
      "text/plain": [
       "0.9210526315789473"
      ]
     },
     "execution_count": 33,
     "metadata": {},
     "output_type": "execute_result"
    }
   ],
   "source": [
    "accuracy_score(y_val,prediction_classes)"
   ]
  },
  {
   "cell_type": "code",
   "execution_count": 34,
   "id": "c6196a4a",
   "metadata": {},
   "outputs": [
    {
     "data": {
      "text/plain": [
       "[1,\n",
       " 1,\n",
       " 1,\n",
       " 1,\n",
       " 1,\n",
       " 1,\n",
       " 1,\n",
       " 1,\n",
       " 1,\n",
       " 1,\n",
       " 1,\n",
       " 1,\n",
       " 1,\n",
       " 0,\n",
       " 1,\n",
       " 0,\n",
       " 1,\n",
       " 0,\n",
       " 0,\n",
       " 0,\n",
       " 1,\n",
       " 0,\n",
       " 1,\n",
       " 1,\n",
       " 0,\n",
       " 1,\n",
       " 1,\n",
       " 1,\n",
       " 1,\n",
       " 0,\n",
       " 1,\n",
       " 0,\n",
       " 1,\n",
       " 0,\n",
       " 1,\n",
       " 1,\n",
       " 1,\n",
       " 0,\n",
       " 1,\n",
       " 0,\n",
       " 0,\n",
       " 1,\n",
       " 0,\n",
       " 1,\n",
       " 1,\n",
       " 0,\n",
       " 1,\n",
       " 1,\n",
       " 1,\n",
       " 0,\n",
       " 0,\n",
       " 0,\n",
       " 0,\n",
       " 1,\n",
       " 1,\n",
       " 1,\n",
       " 1,\n",
       " 1,\n",
       " 1,\n",
       " 0,\n",
       " 1,\n",
       " 0,\n",
       " 1,\n",
       " 1,\n",
       " 0,\n",
       " 1,\n",
       " 0,\n",
       " 0,\n",
       " 0,\n",
       " 1,\n",
       " 1,\n",
       " 0,\n",
       " 1,\n",
       " 1,\n",
       " 0,\n",
       " 1,\n",
       " 1,\n",
       " 1,\n",
       " 1,\n",
       " 1,\n",
       " 0,\n",
       " 0,\n",
       " 0,\n",
       " 1,\n",
       " 0,\n",
       " 1,\n",
       " 1,\n",
       " 1,\n",
       " 0,\n",
       " 0,\n",
       " 1,\n",
       " 0,\n",
       " 0,\n",
       " 0,\n",
       " 1,\n",
       " 1,\n",
       " 0,\n",
       " 1,\n",
       " 1,\n",
       " 1,\n",
       " 1,\n",
       " 1,\n",
       " 1,\n",
       " 1,\n",
       " 0,\n",
       " 1,\n",
       " 0,\n",
       " 1,\n",
       " 0,\n",
       " 0,\n",
       " 1,\n",
       " 0,\n",
       " 0,\n",
       " 0]"
      ]
     },
     "execution_count": 34,
     "metadata": {},
     "output_type": "execute_result"
    }
   ],
   "source": [
    "prediction_classes"
   ]
  },
  {
   "cell_type": "code",
   "execution_count": null,
   "id": "99bdecda",
   "metadata": {},
   "outputs": [],
   "source": []
  }
 ],
 "metadata": {
  "kernelspec": {
   "display_name": "Python 3 (ipykernel)",
   "language": "python",
   "name": "python3"
  },
  "language_info": {
   "codemirror_mode": {
    "name": "ipython",
    "version": 3
   },
   "file_extension": ".py",
   "mimetype": "text/x-python",
   "name": "python",
   "nbconvert_exporter": "python",
   "pygments_lexer": "ipython3",
   "version": "3.11.5"
  }
 },
 "nbformat": 4,
 "nbformat_minor": 5
}
